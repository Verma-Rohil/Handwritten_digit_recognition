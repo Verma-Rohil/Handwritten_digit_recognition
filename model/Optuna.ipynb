{
 "cells": [
  {
   "cell_type": "markdown",
   "id": "0a26c4bf-a5dd-4b34-a272-ce379ef948ba",
   "metadata": {},
   "source": [
    "# OPTUNA\n",
    "\n",
    "   Key Terms:\n",
    "1. Study\n",
    "2. Trial\n",
    "3. Trial Parameters\n",
    "4. Objective Function\n",
    "5. Sampler"
   ]
  },
  {
   "cell_type": "code",
   "execution_count": null,
   "id": "4dfe3eaf-17eb-4a0e-a82b-16826481fa40",
   "metadata": {},
   "outputs": [],
   "source": []
  }
 ],
 "metadata": {
  "kernelspec": {
   "display_name": "Python (handwritten_digit_recognition)",
   "language": "python",
   "name": "handwritten_digit_recognition"
  },
  "language_info": {
   "codemirror_mode": {
    "name": "ipython",
    "version": 3
   },
   "file_extension": ".py",
   "mimetype": "text/x-python",
   "name": "python",
   "nbconvert_exporter": "python",
   "pygments_lexer": "ipython3",
   "version": "3.12.8"
  }
 },
 "nbformat": 4,
 "nbformat_minor": 5
}
