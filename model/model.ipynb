{
 "cells": [
  {
   "cell_type": "markdown",
   "id": "6dd59726-2a32-4206-a8b5-dc055c11108e",
   "metadata": {},
   "source": [
    "***"
   ]
  },
  {
   "cell_type": "markdown",
   "id": "3329cd7a-104c-4eeb-8992-69b101f63dcc",
   "metadata": {},
   "source": [
    "**Name**: <font color=\"lime\">**Panghal vishesh**</font>  \n",
    "**Specialization**: Machine Learning and Computer Vision  \n",
    "**Date**: Dec/29/2024  "
   ]
  },
  {
   "cell_type": "markdown",
   "id": "42f4fa64-522e-4545-8762-4fc3e0b83de5",
   "metadata": {},
   "source": [
    "***"
   ]
  },
  {
   "cell_type": "markdown",
   "id": "722d149b-2731-4796-8899-c9a44a6f032e",
   "metadata": {},
   "source": [
    "- # 🤖 ANN vs 🧠 CNN: A Comprehensive Guide"
   ]
  },
  {
   "cell_type": "markdown",
   "id": "c05a170d-0ae7-48d8-adeb-68a00fd4118f",
   "metadata": {},
   "source": [
    "***\n",
    "<div style=\"background-color: transparent; padding: 10px;\">\n",
    "\n",
    "<table>\n",
    "  <tr>\n",
    "    <td style=\"padding: 10px; text-align: center;\">\n",
    "      <img src=\"https://media.licdn.com/dms/image/v2/D4D12AQGBG0RgeyMHVw/article-cover_image-shrink_720_1280/article-cover_image-shrink_720_1280/0/1692187763032?e=2147483647&v=beta&t=f139Om73qZxbbvCtA-EKhPWUC-YU3qCVRmNCqDM2d3g\" alt=\"ANN\" style=\"width: 600px; height: auto;background-color:white;\">\n",
    "    </td>\n",
    "    <td style=\"padding: 10px; text-align: center;\">\n",
    "      <img src=\"https://media.licdn.com/dms/image/D5612AQGOui8XZUZJSA/article-cover_image-shrink_720_1280/0/1680532048475?e=2147483647&v=beta&t=8aodfukDSrrnnxOVSNobKYJtbtSDB7yC83LUky-Ob68\" alt=\"CNN\" style=\"width: 800px; height: auto;\">\n",
    "    </td>\n",
    "  </tr>\n",
    "</table>\n",
    "\n",
    "</div>"
   ]
  },
  {
   "cell_type": "markdown",
   "id": "ef53b87b-f064-43b6-b341-17b92064ca3c",
   "metadata": {
    "jp-MarkdownHeadingCollapsed": true
   },
   "source": [
    "## <font color=gold> ANN<font/>  \n",
    "- An Artificial Neural Network in the field of Artificial intelligence where it attempts to mimic the network of neurons makes up a human brain so that computers will have an option to understand things and make decisions in a human-like manner. The artificial neural network is designed by programming computers to behave simply like interconnected brain cells.\n",
    "\n",
    "## <font color='white'> Key Components of an Artificial Neural Network (ANN) <font/>  \n",
    "1. **Input Layer**:\n",
    "   - The input layer takes in the data features (e.g., numbers, vectors) and passes them to the next layer. Each neuron represents one feature of the input data.\n",
    "2. **Hidden Layers**:\n",
    "   - These layers consist of neurons that process the input data. Neurons in each layer are connected to every neuron in the previous and next layers (fully connected). The hidden layers perform computations and learn the relationships between input features through activation functions.\n",
    "3. **Output Layer**:\n",
    "   - The output layer produces the final result or prediction (e.g., class labels in classification tasks or a continuous value in regression). The number of neurons in this layer corresponds to the number of output classes or target values.\n",
    "4. **Weights and Biases**:\n",
    "   - Weights determine the strength of the connection between neurons, and biases allow the model to shift the activation function to better fit the data. Both are learned during the training process.\n",
    "5. **Activation Functions**:\n",
    "   - Activation functions introduce non-linearity into the network, enabling it to learn complex patterns. Common functions include ReLU (Rectified Linear Unit), Sigmoid, and Tanh.\n",
    "6. **Loss Function**:\n",
    "   - The loss function measures how far the model's predictions are from the actual target values. During training, the network tries to minimize this loss to improve its performance. Examples include Mean Squared Error (MSE) and Cross-Entropy Loss.\n",
    "7. **Optimizer**:\n",
    "   - Optimizers update the weights and biases during training to minimize the loss function. Examples include Stochastic Gradient Descent (SGD), Adam, and RMSprop."
   ]
  },
  {
   "cell_type": "markdown",
   "id": "b1286a76-b587-494c-bd2d-a412ae66f3af",
   "metadata": {},
   "source": [
    "## <font color=gold> CNN<font/>  \n",
    "- An Convolutional Neural Network is a type of deep learning algorithm that is particularly well-suited for image recognition and processing tasks. It is made up of multiple layers, including convolutional layers, pooling layers, and fully connected layers.\n",
    "\n",
    "## <font color='white'> Key Components of an Convolutional Neural Network (CNN) <font/> \n",
    "1. **Convolutional Layers**:\n",
    "   - The core component of a CNN, where filters (kernels) slide over the input image (or feature maps) to detect local patterns like edges, textures, and shapes. The convolution operation applies a filter to the input to produce a feature map.\n",
    "2. **ReLU (Rectified Linear Unit)**:\n",
    "   - After convolution, the ReLU activation function is typically applied to introduce non-linearity. It replaces all negative values in the feature map with zero, allowing the network to learn complex patterns.\n",
    "3. **Pooling Layers**:\n",
    "   - Pooling reduces the spatial dimensions (height and width) of the feature maps, making the network more computationally efficient and helping to avoid overfitting. The most common type is Max Pooling, which selects the maximum value from a small region of the feature map.\n",
    "4. **Fully Connected Layer**:\n",
    "   - After several convolutional and pooling layers, the high-level features are passed to one or more fully connected layers (like those in a regular ANN). These layers are used to make final predictions, such as class labels or regression outputs.\n",
    "5. **Dropout Layer**:\n",
    "   - A regularization technique where random neurons are \"dropped\" during training to prevent overfitting. This forces the network to generalize better.\n",
    "6. **Batch Normalization**:\n",
    "   - A technique to normalize the activations of each layer in the network to improve training speed and stability.\n",
    "7. **Softmax / Sigmoid (Output Layer)**:\n",
    "   - For classification tasks, the output layer often uses a Softmax activation for multi-class classification (converting raw scores into probabilities).\n",
    "   - For binary classification, Sigmoid is often used.\n",
    "8. **Loss Function and Optimizer**:\n",
    "   - Similar to ANN, CNNs use loss functions like Cross-Entropy Loss for classification tasks and an optimizer like Adam to minimize the loss during training."
   ]
  },
  {
   "cell_type": "markdown",
   "id": "c41bda77-7716-441c-98d5-9586d6705501",
   "metadata": {},
   "source": [
    "<table style=\"width: 100%; border: 1px solid black; border-collapse: collapse;\">\n",
    "  <tr>\n",
    "    <th style=\"padding: 10px; text-align: center;\">Aspect</th>\n",
    "    <th style=\"padding: 10px; text-align: center;\">ANN</th>\n",
    "    <th style=\"padding: 10px; text-align: center;\">CNN</th>\n",
    "  </tr>\n",
    "  <tr>\n",
    "    <td style=\"padding: 10px;\">Architecture</td>\n",
    "    <td style=\"padding: 10px;\">Fully connected layers</td>\n",
    "    <td style=\"padding: 10px;\">Convolutional, pooling layers</td>\n",
    "  </tr>\n",
    "  <tr>\n",
    "    <td style=\"padding: 10px;\">Input</td>\n",
    "    <td style=\"padding: 10px;\">1D data (tabular, vector)</td>\n",
    "    <td style=\"padding: 10px;\">2D/3D data (images, videos)</td>\n",
    "  </tr>\n",
    "  <tr>\n",
    "    <td style=\"padding: 10px;\">Feature Extraction</td>\n",
    "    <td style=\"padding: 10px;\">Manual</td>\n",
    "    <td style=\"padding: 10px;\">Automatic via convolutions</td>\n",
    "  </tr>\n",
    "  <tr>\n",
    "    <td style=\"padding: 10px;\">Parameter Sharing</td>\n",
    "    <td style=\"padding: 10px;\">No</td>\n",
    "    <td style=\"padding: 10px;\">Yes</td>\n",
    "  </tr>\n",
    "  <tr>\n",
    "    <td style=\"padding: 10px;\">Spatial Hierarchy</td>\n",
    "    <td style=\"padding: 10px;\">No</td>\n",
    "    <td style=\"padding: 10px;\">Yes</td>\n",
    "  </tr>\n",
    "  <tr>\n",
    "    <td style=\"padding: 10px;\">Use Cases</td>\n",
    "    <td style=\"padding: 10px;\">General tasks</td>\n",
    "    <td style=\"padding: 10px;\">Image, video, spatial data</td>\n",
    "  </tr>\n",
    "  <tr>\n",
    "    <td style=\"padding: 10px;\">Efficiency</td>\n",
    "    <td style=\"padding: 10px;\">Lower for high-dimensional</td>\n",
    "    <td style=\"padding: 10px;\">Higher for high-dimensional</td>\n",
    "  </tr>\n",
    "</table>\n"
   ]
  },
  {
   "cell_type": "markdown",
   "id": "9d42c58e-cc2a-40bf-94e5-9e836708181d",
   "metadata": {},
   "source": [
    "# <font color=\"cyan\">Handwritten Digit Recognition (ANN)</font>"
   ]
  },
  {
   "cell_type": "code",
   "execution_count": 3,
   "id": "c46553e0-93b3-4bf2-99b6-bd4e085358c7",
   "metadata": {},
   "outputs": [
    {
     "data": {
      "text/plain": [
       "'2.5.1+cpu'"
      ]
     },
     "execution_count": 3,
     "metadata": {},
     "output_type": "execute_result"
    }
   ],
   "source": [
    "import torch\n",
    "import torch.nn as nn\n",
    "from torchvision.datasets import ImageFolder\n",
    "from torchvision.transforms import transforms\n",
    "from torch.utils.data import Dataset, DataLoader\n",
    "\n",
    "import matplotlib.pyplot as plt\n",
    "torch.__version__"
   ]
  },
  {
   "cell_type": "code",
   "execution_count": 4,
   "id": "0951c786-5946-4aee-8e46-8a09a2bf6a34",
   "metadata": {},
   "outputs": [
    {
     "data": {
      "text/plain": [
       "device(type='cpu')"
      ]
     },
     "execution_count": 4,
     "metadata": {},
     "output_type": "execute_result"
    }
   ],
   "source": [
    "device = torch.device(\"cuda\" if torch.cuda.is_available() else \"cpu\")\n",
    "device"
   ]
  },
  {
   "cell_type": "markdown",
   "id": "61e1d9f5-41c6-47e7-bb7e-b71dc5923a7d",
   "metadata": {},
   "source": [
    "## <font color='gold'> Prepare Dataset<font/>"
   ]
  },
  {
   "cell_type": "code",
   "execution_count": 5,
   "id": "98452816-19cd-4723-a796-4db810bb0674",
   "metadata": {},
   "outputs": [],
   "source": [
    "transform = transforms.Compose([\n",
    "    transforms.Grayscale(num_output_channels=1),  # Convert to grayscale\n",
    "    transforms.Resize((28, 28)),                 # Resize to 28x28\n",
    "    transforms.ToTensor(),\n",
    "    transforms.Normalize((0.5,), (0.5,))         # Normalize to [-1, 1]\n",
    "])"
   ]
  },
  {
   "cell_type": "code",
   "execution_count": 6,
   "id": "315da368-86f1-4c42-a03a-37b7b6043948",
   "metadata": {},
   "outputs": [
    {
     "name": "stdout",
     "output_type": "stream",
     "text": [
      "Number of samples: 31715\n",
      "Class to Index Mapping: {'0': 0, '1': 1, '2': 2, '3': 3, '4': 4, '5': 5, '6': 6, '7': 7, '8': 8, '9': 9}\n"
     ]
    }
   ],
   "source": [
    "dataset = ImageFolder(\"../dataset/\",transform=transform)\n",
    "\n",
    "print(f\"Number of samples: {len(dataset)}\")\n",
    "print(f\"Class to Index Mapping: {dataset.class_to_idx}\")"
   ]
  },
  {
   "cell_type": "code",
   "execution_count": 7,
   "id": "9b9c3c16-49da-48cf-b642-c306e04e6a93",
   "metadata": {},
   "outputs": [],
   "source": [
    "from torch.utils.data import random_split"
   ]
  },
  {
   "cell_type": "code",
   "execution_count": 8,
   "id": "ebdbd007-bd39-4f36-b6f3-ca5e603b4d2c",
   "metadata": {},
   "outputs": [
    {
     "name": "stdout",
     "output_type": "stream",
     "text": [
      "Training Samples: 25372\n",
      "Testing Samples: 6343\n"
     ]
    }
   ],
   "source": [
    "train_size = int(0.8*len(dataset))\n",
    "test_size = len(dataset) - train_size\n",
    "\n",
    "train_dataset, test_dataset = random_split(dataset,[train_size,test_size])\n",
    "\n",
    "print(f\"Training Samples: {len(train_dataset)}\")\n",
    "print(f\"Testing Samples: {len(test_dataset)}\")"
   ]
  },
  {
   "cell_type": "code",
   "execution_count": 9,
   "id": "923cdc14-345c-4884-b747-5321ffdb3be5",
   "metadata": {},
   "outputs": [
    {
     "data": {
      "image/png": "[encoded data removed]",
      "text/plain": [
       "<Figure size 640x480 with 6 Axes>"
      ]
     },
     "metadata": {},
     "output_type": "display_data"
    }
   ],
   "source": [
    "# Data Loader\n",
    "train_loader = DataLoader(train_dataset,batch_size=64,shuffle=True)\n",
    "test_loader = DataLoader(test_dataset,batch_size=64,shuffle=False)\n",
    "\n",
    "classes = dataset.classes\n",
    "for images,labels in train_loader:\n",
    "    for i in range(6):\n",
    "        plt.subplot(2,3,i+1)\n",
    "        plt.imshow(images[i].squeeze(), cmap='gray')\n",
    "        plt.title(f\"Label: {classes[labels[i]]}\")\n",
    "        plt.axis('off')\n",
    "    break\n",
    "plt.show()"
   ]
  },
  {
   "cell_type": "markdown",
   "id": "db7be416-735a-478a-b52d-ba36691e5f8e",
   "metadata": {},
   "source": [
    "## <font color='gold'> Define Model<font/>"
   ]
  },
  {
   "cell_type": "code",
   "execution_count": 10,
   "id": "6b0f63df-c5b0-4690-8b50-934cc3935ca9",
   "metadata": {},
   "outputs": [],
   "source": [
    "class ANNModel(nn.Module):\n",
    "    def __init__(self,num_features):\n",
    "        super().__init__()\n",
    "        self.network = nn.Sequential(\n",
    "        nn.Linear(num_features, 128),\n",
    "        nn.BatchNorm1d(128),\n",
    "        nn.ReLU(),\n",
    "        nn.Linear(128, 64),\n",
    "        nn.BatchNorm1d(64),\n",
    "        nn.ReLU(),\n",
    "        nn.Linear(64, 10),\n",
    "        )\n",
    "\n",
    "    def forward(self, features):\n",
    "        out = self.network(features)\n",
    "\n",
    "        return out"
   ]
  },
  {
   "cell_type": "code",
   "execution_count": 11,
   "id": "62f40219-9d9b-4afe-a876-4b83d9de48e7",
   "metadata": {},
   "outputs": [
    {
     "data": {
      "text/plain": [
       "784"
      ]
     },
     "execution_count": 11,
     "metadata": {},
     "output_type": "execute_result"
    }
   ],
   "source": [
    "image,label = train_dataset[0]\n",
    "height,width = image.shape[1],image.shape[2]\n",
    "num_features = height*width\n",
    "num_features"
   ]
  },
  {
   "cell_type": "code",
   "execution_count": 12,
   "id": "d55fcd1f-c81e-4ad2-8844-1e440642ebcd",
   "metadata": {},
   "outputs": [
    {
     "data": {
      "text/plain": [
       "ANNModel(\n",
       "  (network): Sequential(\n",
       "    (0): Linear(in_features=784, out_features=128, bias=True)\n",
       "    (1): BatchNorm1d(128, eps=1e-05, momentum=0.1, affine=True, track_running_stats=True)\n",
       "    (2): ReLU()\n",
       "    (3): Linear(in_features=128, out_features=64, bias=True)\n",
       "    (4): BatchNorm1d(64, eps=1e-05, momentum=0.1, affine=True, track_running_stats=True)\n",
       "    (5): ReLU()\n",
       "    (6): Linear(in_features=64, out_features=10, bias=True)\n",
       "  )\n",
       ")"
      ]
     },
     "execution_count": 12,
     "metadata": {},
     "output_type": "execute_result"
    }
   ],
   "source": [
    "ANN_model = ANNModel(num_features)\n",
    "ANN_model"
   ]
  },
  {
   "cell_type": "markdown",
   "id": "1d76f4a1-3e28-4417-bcfa-74de6f9bc17f",
   "metadata": {},
   "source": [
    "## <font color='gold'> Train Model <font/>"
   ]
  },
  {
   "cell_type": "code",
   "execution_count": 13,
   "id": "55e735f1-7f31-49b2-883c-998da11dd014",
   "metadata": {},
   "outputs": [],
   "source": [
    "learning_rate = 0.01\n",
    "epochs = 10"
   ]
  },
  {
   "cell_type": "code",
   "execution_count": 14,
   "id": "77b8c16c-008c-4a20-883e-b87378bd76eb",
   "metadata": {},
   "outputs": [],
   "source": [
    "loss_function = nn.CrossEntropyLoss()\n",
    "optimizer = torch.optim.Adam(ANN_model.parameters(),lr=learning_rate)"
   ]
  },
  {
   "cell_type": "code",
   "execution_count": 15,
   "id": "a26f0521-10ac-41ab-a186-7278cc7f75ac",
   "metadata": {},
   "outputs": [
    {
     "name": "stdout",
     "output_type": "stream",
     "text": [
      "Epoch [1/10], Loss: 0.9053, Accuracy: 70.61%\n",
      "Epoch [2/10], Loss: 0.4864, Accuracy: 84.24%\n",
      "Epoch [3/10], Loss: 0.3605, Accuracy: 88.05%\n",
      "Epoch [4/10], Loss: 0.2958, Accuracy: 90.18%\n",
      "Epoch [5/10], Loss: 0.2559, Accuracy: 91.53%\n",
      "Epoch [6/10], Loss: 0.2151, Accuracy: 92.81%\n",
      "Epoch [7/10], Loss: 0.1994, Accuracy: 93.35%\n",
      "Epoch [8/10], Loss: 0.1876, Accuracy: 93.52%\n",
      "Epoch [9/10], Loss: 0.1755, Accuracy: 94.03%\n",
      "Epoch [10/10], Loss: 0.1590, Accuracy: 94.47%\n"
     ]
    }
   ],
   "source": [
    "for epoch in range(epochs):\n",
    "    ANN_model.train()\n",
    "    running_loss = 0.0\n",
    "    correct = 0\n",
    "    total = 0\n",
    "\n",
    "    for images, labels in train_loader:\n",
    "        # Flatten images (MNIST images are 28x28)\n",
    "        images = images.view(-1, 28*28).to(device)\n",
    "        labels = labels.to(device)\n",
    "\n",
    "        optimizer.zero_grad()\n",
    "\n",
    "        output = ANN_model(images)\n",
    "\n",
    "        loss = loss_function(output,labels)\n",
    "        loss.backward()\n",
    "\n",
    "        optimizer.step()\n",
    "\n",
    "        running_loss +=loss.item()\n",
    "        _,predicted = torch.max(output,1)\n",
    "        total += labels.size(0)\n",
    "        correct += (predicted == labels).sum().item()\n",
    "\n",
    "    epoch_loss = running_loss / len(train_loader)\n",
    "    epoch_accuracy = 100 * correct / total\n",
    "    print(f\"Epoch [{epoch+1}/{epochs}], Loss: {epoch_loss:.4f}, Accuracy: {epoch_accuracy:.2f}%\")"
   ]
  },
  {
   "cell_type": "code",
   "execution_count": 16,
   "id": "d47b8ba1-35a0-4d3a-be95-923c929833fe",
   "metadata": {},
   "outputs": [
    {
     "name": "stdout",
     "output_type": "stream",
     "text": [
      "Test Accuracy: 59.72%\n"
     ]
    }
   ],
   "source": [
    "ANN_model.eval()\n",
    "correct = 0\n",
    "total = 0\n",
    "with torch.no_grad():\n",
    "    for images, labels in test_loader:\n",
    "        images = images.view(-1, 28*28).to(device)\n",
    "        labels = labels.to(device)\n",
    "        outputs = ANN_model(images)\n",
    "        _, predicted = torch.max(outputs, 1)\n",
    "        total += labels.size(0)\n",
    "        correct += (predicted == labels).sum().item()\n",
    "\n",
    "test_accuracy = 100 * correct / total\n",
    "print(f\"Test Accuracy: {test_accuracy:.2f}%\")"
   ]
  },
  {
   "cell_type": "code",
   "execution_count": 20,
   "id": "0fff0d0d-8071-469b-836c-8ef61cce9790",
   "metadata": {},
   "outputs": [],
   "source": [
    "from torchsummary import summary"
   ]
  },
  {
   "cell_type": "code",
   "execution_count": 21,
   "id": "35de425c-0e7d-4fdd-9bfe-098994685d87",
   "metadata": {},
   "outputs": [
    {
     "name": "stdout",
     "output_type": "stream",
     "text": [
      "----------------------------------------------------------------\n",
      "        Layer (type)               Output Shape         Param #\n",
      "================================================================\n",
      "            Linear-1                  [-1, 128]         100,480\n",
      "       BatchNorm1d-2                  [-1, 128]             256\n",
      "              ReLU-3                  [-1, 128]               0\n",
      "            Linear-4                   [-1, 64]           8,256\n",
      "       BatchNorm1d-5                   [-1, 64]             128\n",
      "              ReLU-6                   [-1, 64]               0\n",
      "            Linear-7                   [-1, 10]             650\n",
      "================================================================\n",
      "Total params: 109,770\n",
      "Trainable params: 109,770\n",
      "Non-trainable params: 0\n",
      "----------------------------------------------------------------\n",
      "Input size (MB): 0.00\n",
      "Forward/backward pass size (MB): 0.00\n",
      "Params size (MB): 0.42\n",
      "Estimated Total Size (MB): 0.43\n",
      "----------------------------------------------------------------\n"
     ]
    }
   ],
   "source": [
    "summary(model=ANN_model, input_size=(28*28,))"
   ]
  },
  {
   "cell_type": "markdown",
   "id": "1de96b97-f4dc-43ff-b183-061b5b665a2d",
   "metadata": {},
   "source": [
    "## <font color='gold'> Export model<font/>"
   ]
  },
  {
   "cell_type": "code",
   "execution_count": 22,
   "id": "ddf57173-6fba-474b-b8b1-c17ef8562945",
   "metadata": {},
   "outputs": [],
   "source": [
    "# Save the model\n",
    "torch.save(ANN_model.state_dict(), '../model/(ANN)digit_recognition_model.pth')"
   ]
  },
  {
   "cell_type": "markdown",
   "id": "ce6a85bd-03b6-465a-8e39-14aea8244407",
   "metadata": {},
   "source": [
    "***"
   ]
  },
  {
   "cell_type": "markdown",
   "id": "b460348b-06b6-4ea2-957e-c44c838b18a0",
   "metadata": {},
   "source": [
    "***"
   ]
  },
  {
   "cell_type": "markdown",
   "id": "1634731a-7c0b-488b-a636-a16bce49071f",
   "metadata": {},
   "source": [
    "# <font color=\"cyan\">Handwritten Digit Recognition (CNN)</font>"
   ]
  },
  {
   "cell_type": "code",
   "execution_count": 5,
   "id": "d9464fcd-82f8-4019-b12e-2383f036fe00",
   "metadata": {},
   "outputs": [],
   "source": [
    "from torchvision import datasets\n",
    "from torch.utils.data import random_split"
   ]
  },
  {
   "cell_type": "code",
   "execution_count": 6,
   "id": "267729fc-abd5-498c-8039-2d0a3625c928",
   "metadata": {},
   "outputs": [
    {
     "name": "stdout",
     "output_type": "stream",
     "text": [
      "torch.Size([64, 1, 28, 28]) torch.Size([64])\n",
      "Training Samples: 25372\n",
      "Testing Samples: 6343\n"
     ]
    }
   ],
   "source": [
    "transform = transforms.Compose([\n",
    "    transforms.Grayscale(num_output_channels=1),\n",
    "    transforms.Resize((28,28)),\n",
    "    transforms.ToTensor(),\n",
    "    transforms.Normalize((0.5,),(0.5,))\n",
    "])\n",
    "\n",
    "train_dataset = datasets.ImageFolder(root='../dataset/',transform=transform)\n",
    "\n",
    "train_size = int(0.8 * len(train_dataset)) \n",
    "test_size = len(train_dataset) - train_size \n",
    "\n",
    "train_subset, test_subset = random_split(train_dataset, [train_size, test_size])\n",
    "\n",
    "# Train loader\n",
    "train_loader = DataLoader(train_subset, batch_size=64, shuffle=True)\n",
    "\n",
    "# Test loader\n",
    "test_loader = DataLoader(test_subset, batch_size=64, shuffle=False)\n",
    "\n",
    "for images, labels in test_loader:\n",
    "    print(images.shape, labels.shape)\n",
    "    break\n",
    "\n",
    "print(f\"Training Samples: {len(train_subset)}\")\n",
    "print(f\"Testing Samples: {len(test_subset)}\")"
   ]
  },
  {
   "cell_type": "code",
   "execution_count": 7,
   "id": "0371c54f-a925-442f-9e6d-c91adb00e3d3",
   "metadata": {},
   "outputs": [
    {
     "data": {
      "image/png": "[encoded data removed]",
      "text/plain": [
       "<Figure size 640x480 with 1 Axes>"
      ]
     },
     "metadata": {},
     "output_type": "display_data"
    }
   ],
   "source": [
    "for images, labels in train_loader:\n",
    "    plt.imshow(images[0].squeeze(), cmap='grey')\n",
    "    plt.title(f\"Label: {labels[0]}\")\n",
    "    plt.show()\n",
    "    break"
   ]
  },
  {
   "cell_type": "code",
   "execution_count": 8,
   "id": "57c470b6-f601-415f-a409-20cafbd2e7a7",
   "metadata": {},
   "outputs": [],
   "source": [
    "import torch.nn as nn\n",
    "import torch.nn.functional as F"
   ]
  },
  {
   "cell_type": "code",
   "execution_count": 9,
   "id": "f042a3fb-774a-4935-8e12-3a51f34f5993",
   "metadata": {},
   "outputs": [],
   "source": [
    "class CNNModel(nn.Module):\n",
    "    def __init__(self):\n",
    "        super(CNNModel, self).__init__()\n",
    "        self.conv1 = nn.Conv2d(in_channels=1, out_channels=32, kernel_size=3, stride=1, padding=1)\n",
    "        self.conv2 = nn.Conv2d(in_channels=32, out_channels=64, kernel_size=3, stride=1, padding=1)\n",
    "        self.pool = nn.MaxPool2d(kernel_size=2, stride=2)\n",
    "        self.fc1 = None  # Will initialize dynamically\n",
    "        self.fc2 = nn.Linear(in_features=128, out_features=10)\n",
    "\n",
    "    def forward(self, feature):\n",
    "        feature = F.relu(self.conv1(feature))\n",
    "        feature = self.pool(feature)\n",
    "        feature = F.relu(self.conv2(feature))\n",
    "        feature = self.pool(feature)\n",
    "        feature = feature.view(feature.size(0), -1)  # Flatten the feature map\n",
    "        if not self.fc1:  # Initialize fc1 dynamically based on flattened feature size\n",
    "            self.fc1 = nn.Linear(feature.size(1), 128)\n",
    "        feature = F.relu(self.fc1(feature))\n",
    "        feature = self.fc2(feature)\n",
    "        return feature"
   ]
  },
  {
   "cell_type": "code",
   "execution_count": 10,
   "id": "ddc4c58b-12ca-422b-b156-7df062eccdb7",
   "metadata": {},
   "outputs": [
    {
     "data": {
      "text/plain": [
       "CNNModel(\n",
       "  (conv1): Conv2d(1, 32, kernel_size=(3, 3), stride=(1, 1), padding=(1, 1))\n",
       "  (conv2): Conv2d(32, 64, kernel_size=(3, 3), stride=(1, 1), padding=(1, 1))\n",
       "  (pool): MaxPool2d(kernel_size=2, stride=2, padding=0, dilation=1, ceil_mode=False)\n",
       "  (fc2): Linear(in_features=128, out_features=10, bias=True)\n",
       ")"
      ]
     },
     "execution_count": 10,
     "metadata": {},
     "output_type": "execute_result"
    }
   ],
   "source": [
    "CNN_model = CNNModel()\n",
    "CNN_model"
   ]
  },
  {
   "cell_type": "code",
   "execution_count": 11,
   "id": "f6fbbb67-1e97-4dd8-a0bd-1a83b76918a0",
   "metadata": {},
   "outputs": [],
   "source": [
    "batch_size = 64\n",
    "epochs = 25\n",
    "learning_rate = 0.01\n",
    "loss_function = nn.CrossEntropyLoss()\n",
    "optimizer = torch.optim.Adam(CNN_model.parameters(),lr=learning_rate)"
   ]
  },
  {
   "cell_type": "code",
   "execution_count": 12,
   "id": "7ca71d65-ae48-4b1b-a5d5-9670fc93352b",
   "metadata": {},
   "outputs": [
    {
     "name": "stdout",
     "output_type": "stream",
     "text": [
      "Epoch [1/25], Loss: 0.7891, Accuracy: 74.92%\n",
      "Epoch [2/25], Loss: 0.3808, Accuracy: 88.24%\n",
      "Epoch [3/25], Loss: 0.2986, Accuracy: 90.79%\n",
      "Epoch [4/25], Loss: 0.2619, Accuracy: 91.73%\n",
      "Epoch [5/25], Loss: 0.2266, Accuracy: 93.11%\n"
     ]
    },
    {
     "ename": "KeyboardInterrupt",
     "evalue": "",
     "output_type": "error",
     "traceback": [
      "\u001b[1;31m---------------------------------------------------------------------------\u001b[0m",
      "\u001b[1;31mKeyboardInterrupt\u001b[0m                         Traceback (most recent call last)",
      "Cell \u001b[1;32mIn[12], line 9\u001b[0m\n\u001b[0;32m      6\u001b[0m total \u001b[38;5;241m=\u001b[39m \u001b[38;5;241m0\u001b[39m\n\u001b[0;32m      7\u001b[0m correct \u001b[38;5;241m=\u001b[39m \u001b[38;5;241m0\u001b[39m\n\u001b[1;32m----> 9\u001b[0m \u001b[43m\u001b[49m\u001b[38;5;28;43;01mfor\u001b[39;49;00m\u001b[43m \u001b[49m\u001b[43mimages\u001b[49m\u001b[43m,\u001b[49m\u001b[43m \u001b[49m\u001b[43mlabels\u001b[49m\u001b[43m \u001b[49m\u001b[38;5;129;43;01min\u001b[39;49;00m\u001b[43m \u001b[49m\u001b[43mtrain_loader\u001b[49m\u001b[43m:\u001b[49m\n\u001b[0;32m     11\u001b[0m \u001b[43m    \u001b[49m\u001b[43mimages\u001b[49m\u001b[43m,\u001b[49m\u001b[43m \u001b[49m\u001b[43mlabels\u001b[49m\u001b[43m \u001b[49m\u001b[38;5;241;43m=\u001b[39;49m\u001b[43m \u001b[49m\u001b[43mimages\u001b[49m\u001b[38;5;241;43m.\u001b[39;49m\u001b[43mto\u001b[49m\u001b[43m(\u001b[49m\u001b[43mdevice\u001b[49m\u001b[43m)\u001b[49m\u001b[43m,\u001b[49m\u001b[43m \u001b[49m\u001b[43mlabels\u001b[49m\u001b[38;5;241;43m.\u001b[39;49m\u001b[43mto\u001b[49m\u001b[43m(\u001b[49m\u001b[43mdevice\u001b[49m\u001b[43m)\u001b[49m\n\u001b[0;32m     13\u001b[0m \u001b[43m    \u001b[49m\u001b[38;5;66;43;03m# Forward pass\u001b[39;49;00m\n",
      "File \u001b[1;32m~\\dataScience\\handwritten_digit_recognition\\Lib\\site-packages\\torch\\utils\\data\\dataloader.py:701\u001b[0m, in \u001b[0;36m_BaseDataLoaderIter.__next__\u001b[1;34m(self)\u001b[0m\n\u001b[0;32m    698\u001b[0m \u001b[38;5;28;01mif\u001b[39;00m \u001b[38;5;28mself\u001b[39m\u001b[38;5;241m.\u001b[39m_sampler_iter \u001b[38;5;129;01mis\u001b[39;00m \u001b[38;5;28;01mNone\u001b[39;00m:\n\u001b[0;32m    699\u001b[0m     \u001b[38;5;66;03m# TODO(https://github.com/pytorch/pytorch/issues/76750)\u001b[39;00m\n\u001b[0;32m    700\u001b[0m     \u001b[38;5;28mself\u001b[39m\u001b[38;5;241m.\u001b[39m_reset()  \u001b[38;5;66;03m# type: ignore[call-arg]\u001b[39;00m\n\u001b[1;32m--> 701\u001b[0m data \u001b[38;5;241m=\u001b[39m \u001b[38;5;28;43mself\u001b[39;49m\u001b[38;5;241;43m.\u001b[39;49m\u001b[43m_next_data\u001b[49m\u001b[43m(\u001b[49m\u001b[43m)\u001b[49m\n\u001b[0;32m    702\u001b[0m \u001b[38;5;28mself\u001b[39m\u001b[38;5;241m.\u001b[39m_num_yielded \u001b[38;5;241m+\u001b[39m\u001b[38;5;241m=\u001b[39m \u001b[38;5;241m1\u001b[39m\n\u001b[0;32m    703\u001b[0m \u001b[38;5;28;01mif\u001b[39;00m (\n\u001b[0;32m    704\u001b[0m     \u001b[38;5;28mself\u001b[39m\u001b[38;5;241m.\u001b[39m_dataset_kind \u001b[38;5;241m==\u001b[39m _DatasetKind\u001b[38;5;241m.\u001b[39mIterable\n\u001b[0;32m    705\u001b[0m     \u001b[38;5;129;01mand\u001b[39;00m \u001b[38;5;28mself\u001b[39m\u001b[38;5;241m.\u001b[39m_IterableDataset_len_called \u001b[38;5;129;01mis\u001b[39;00m \u001b[38;5;129;01mnot\u001b[39;00m \u001b[38;5;28;01mNone\u001b[39;00m\n\u001b[0;32m    706\u001b[0m     \u001b[38;5;129;01mand\u001b[39;00m \u001b[38;5;28mself\u001b[39m\u001b[38;5;241m.\u001b[39m_num_yielded \u001b[38;5;241m>\u001b[39m \u001b[38;5;28mself\u001b[39m\u001b[38;5;241m.\u001b[39m_IterableDataset_len_called\n\u001b[0;32m    707\u001b[0m ):\n",
      "File \u001b[1;32m~\\dataScience\\handwritten_digit_recognition\\Lib\\site-packages\\torch\\utils\\data\\dataloader.py:757\u001b[0m, in \u001b[0;36m_SingleProcessDataLoaderIter._next_data\u001b[1;34m(self)\u001b[0m\n\u001b[0;32m    755\u001b[0m \u001b[38;5;28;01mdef\u001b[39;00m\u001b[38;5;250m \u001b[39m\u001b[38;5;21m_next_data\u001b[39m(\u001b[38;5;28mself\u001b[39m):\n\u001b[0;32m    756\u001b[0m     index \u001b[38;5;241m=\u001b[39m \u001b[38;5;28mself\u001b[39m\u001b[38;5;241m.\u001b[39m_next_index()  \u001b[38;5;66;03m# may raise StopIteration\u001b[39;00m\n\u001b[1;32m--> 757\u001b[0m     data \u001b[38;5;241m=\u001b[39m \u001b[38;5;28;43mself\u001b[39;49m\u001b[38;5;241;43m.\u001b[39;49m\u001b[43m_dataset_fetcher\u001b[49m\u001b[38;5;241;43m.\u001b[39;49m\u001b[43mfetch\u001b[49m\u001b[43m(\u001b[49m\u001b[43mindex\u001b[49m\u001b[43m)\u001b[49m  \u001b[38;5;66;03m# may raise StopIteration\u001b[39;00m\n\u001b[0;32m    758\u001b[0m     \u001b[38;5;28;01mif\u001b[39;00m \u001b[38;5;28mself\u001b[39m\u001b[38;5;241m.\u001b[39m_pin_memory:\n\u001b[0;32m    759\u001b[0m         data \u001b[38;5;241m=\u001b[39m _utils\u001b[38;5;241m.\u001b[39mpin_memory\u001b[38;5;241m.\u001b[39mpin_memory(data, \u001b[38;5;28mself\u001b[39m\u001b[38;5;241m.\u001b[39m_pin_memory_device)\n",
      "File \u001b[1;32m~\\dataScience\\handwritten_digit_recognition\\Lib\\site-packages\\torch\\utils\\data\\_utils\\fetch.py:50\u001b[0m, in \u001b[0;36m_MapDatasetFetcher.fetch\u001b[1;34m(self, possibly_batched_index)\u001b[0m\n\u001b[0;32m     48\u001b[0m \u001b[38;5;28;01mif\u001b[39;00m \u001b[38;5;28mself\u001b[39m\u001b[38;5;241m.\u001b[39mauto_collation:\n\u001b[0;32m     49\u001b[0m     \u001b[38;5;28;01mif\u001b[39;00m \u001b[38;5;28mhasattr\u001b[39m(\u001b[38;5;28mself\u001b[39m\u001b[38;5;241m.\u001b[39mdataset, \u001b[38;5;124m\"\u001b[39m\u001b[38;5;124m__getitems__\u001b[39m\u001b[38;5;124m\"\u001b[39m) \u001b[38;5;129;01mand\u001b[39;00m \u001b[38;5;28mself\u001b[39m\u001b[38;5;241m.\u001b[39mdataset\u001b[38;5;241m.\u001b[39m__getitems__:\n\u001b[1;32m---> 50\u001b[0m         data \u001b[38;5;241m=\u001b[39m \u001b[38;5;28;43mself\u001b[39;49m\u001b[38;5;241;43m.\u001b[39;49m\u001b[43mdataset\u001b[49m\u001b[38;5;241;43m.\u001b[39;49m\u001b[43m__getitems__\u001b[49m\u001b[43m(\u001b[49m\u001b[43mpossibly_batched_index\u001b[49m\u001b[43m)\u001b[49m\n\u001b[0;32m     51\u001b[0m     \u001b[38;5;28;01melse\u001b[39;00m:\n\u001b[0;32m     52\u001b[0m         data \u001b[38;5;241m=\u001b[39m [\u001b[38;5;28mself\u001b[39m\u001b[38;5;241m.\u001b[39mdataset[idx] \u001b[38;5;28;01mfor\u001b[39;00m idx \u001b[38;5;129;01min\u001b[39;00m possibly_batched_index]\n",
      "File \u001b[1;32m~\\dataScience\\handwritten_digit_recognition\\Lib\\site-packages\\torch\\utils\\data\\dataset.py:420\u001b[0m, in \u001b[0;36mSubset.__getitems__\u001b[1;34m(self, indices)\u001b[0m\n\u001b[0;32m    418\u001b[0m     \u001b[38;5;28;01mreturn\u001b[39;00m \u001b[38;5;28mself\u001b[39m\u001b[38;5;241m.\u001b[39mdataset\u001b[38;5;241m.\u001b[39m__getitems__([\u001b[38;5;28mself\u001b[39m\u001b[38;5;241m.\u001b[39mindices[idx] \u001b[38;5;28;01mfor\u001b[39;00m idx \u001b[38;5;129;01min\u001b[39;00m indices])  \u001b[38;5;66;03m# type: ignore[attr-defined]\u001b[39;00m\n\u001b[0;32m    419\u001b[0m \u001b[38;5;28;01melse\u001b[39;00m:\n\u001b[1;32m--> 420\u001b[0m     \u001b[38;5;28;01mreturn\u001b[39;00m [\u001b[38;5;28;43mself\u001b[39;49m\u001b[38;5;241;43m.\u001b[39;49m\u001b[43mdataset\u001b[49m\u001b[43m[\u001b[49m\u001b[38;5;28;43mself\u001b[39;49m\u001b[38;5;241;43m.\u001b[39;49m\u001b[43mindices\u001b[49m\u001b[43m[\u001b[49m\u001b[43midx\u001b[49m\u001b[43m]\u001b[49m\u001b[43m]\u001b[49m \u001b[38;5;28;01mfor\u001b[39;00m idx \u001b[38;5;129;01min\u001b[39;00m indices]\n",
      "File \u001b[1;32m~\\dataScience\\handwritten_digit_recognition\\Lib\\site-packages\\torchvision\\datasets\\folder.py:245\u001b[0m, in \u001b[0;36mDatasetFolder.__getitem__\u001b[1;34m(self, index)\u001b[0m\n\u001b[0;32m    237\u001b[0m \u001b[38;5;250m\u001b[39m\u001b[38;5;124;03m\"\"\"\u001b[39;00m\n\u001b[0;32m    238\u001b[0m \u001b[38;5;124;03mArgs:\u001b[39;00m\n\u001b[0;32m    239\u001b[0m \u001b[38;5;124;03m    index (int): Index\u001b[39;00m\n\u001b[1;32m   (...)\u001b[0m\n\u001b[0;32m    242\u001b[0m \u001b[38;5;124;03m    tuple: (sample, target) where target is class_index of the target class.\u001b[39;00m\n\u001b[0;32m    243\u001b[0m \u001b[38;5;124;03m\"\"\"\u001b[39;00m\n\u001b[0;32m    244\u001b[0m path, target \u001b[38;5;241m=\u001b[39m \u001b[38;5;28mself\u001b[39m\u001b[38;5;241m.\u001b[39msamples[index]\n\u001b[1;32m--> 245\u001b[0m sample \u001b[38;5;241m=\u001b[39m \u001b[38;5;28;43mself\u001b[39;49m\u001b[38;5;241;43m.\u001b[39;49m\u001b[43mloader\u001b[49m\u001b[43m(\u001b[49m\u001b[43mpath\u001b[49m\u001b[43m)\u001b[49m\n\u001b[0;32m    246\u001b[0m \u001b[38;5;28;01mif\u001b[39;00m \u001b[38;5;28mself\u001b[39m\u001b[38;5;241m.\u001b[39mtransform \u001b[38;5;129;01mis\u001b[39;00m \u001b[38;5;129;01mnot\u001b[39;00m \u001b[38;5;28;01mNone\u001b[39;00m:\n\u001b[0;32m    247\u001b[0m     sample \u001b[38;5;241m=\u001b[39m \u001b[38;5;28mself\u001b[39m\u001b[38;5;241m.\u001b[39mtransform(sample)\n",
      "File \u001b[1;32m~\\dataScience\\handwritten_digit_recognition\\Lib\\site-packages\\torchvision\\datasets\\folder.py:284\u001b[0m, in \u001b[0;36mdefault_loader\u001b[1;34m(path)\u001b[0m\n\u001b[0;32m    282\u001b[0m     \u001b[38;5;28;01mreturn\u001b[39;00m accimage_loader(path)\n\u001b[0;32m    283\u001b[0m \u001b[38;5;28;01melse\u001b[39;00m:\n\u001b[1;32m--> 284\u001b[0m     \u001b[38;5;28;01mreturn\u001b[39;00m \u001b[43mpil_loader\u001b[49m\u001b[43m(\u001b[49m\u001b[43mpath\u001b[49m\u001b[43m)\u001b[49m\n",
      "File \u001b[1;32m~\\dataScience\\handwritten_digit_recognition\\Lib\\site-packages\\torchvision\\datasets\\folder.py:262\u001b[0m, in \u001b[0;36mpil_loader\u001b[1;34m(path)\u001b[0m\n\u001b[0;32m    260\u001b[0m \u001b[38;5;28;01mdef\u001b[39;00m\u001b[38;5;250m \u001b[39m\u001b[38;5;21mpil_loader\u001b[39m(path: \u001b[38;5;28mstr\u001b[39m) \u001b[38;5;241m-\u001b[39m\u001b[38;5;241m>\u001b[39m Image\u001b[38;5;241m.\u001b[39mImage:\n\u001b[0;32m    261\u001b[0m     \u001b[38;5;66;03m# open path as file to avoid ResourceWarning (https://github.com/python-pillow/Pillow/issues/835)\u001b[39;00m\n\u001b[1;32m--> 262\u001b[0m     \u001b[38;5;28;01mwith\u001b[39;00m \u001b[38;5;28;43mopen\u001b[39;49m\u001b[43m(\u001b[49m\u001b[43mpath\u001b[49m\u001b[43m,\u001b[49m\u001b[43m \u001b[49m\u001b[38;5;124;43m\"\u001b[39;49m\u001b[38;5;124;43mrb\u001b[39;49m\u001b[38;5;124;43m\"\u001b[39;49m\u001b[43m)\u001b[49m \u001b[38;5;28;01mas\u001b[39;00m f:\n\u001b[0;32m    263\u001b[0m         img \u001b[38;5;241m=\u001b[39m Image\u001b[38;5;241m.\u001b[39mopen(f)\n\u001b[0;32m    264\u001b[0m         \u001b[38;5;28;01mreturn\u001b[39;00m img\u001b[38;5;241m.\u001b[39mconvert(\u001b[38;5;124m\"\u001b[39m\u001b[38;5;124mRGB\u001b[39m\u001b[38;5;124m\"\u001b[39m)\n",
      "\u001b[1;31mKeyboardInterrupt\u001b[0m: "
     ]
    }
   ],
   "source": [
    "CNN_model.to(device)\n",
    "\n",
    "for epoch in range(epochs):\n",
    "    CNN_model.train()\n",
    "    running_loss = 0.0\n",
    "    total = 0\n",
    "    correct = 0\n",
    "\n",
    "    for images, labels in train_loader:\n",
    "\n",
    "        images, labels = images.to(device), labels.to(device)\n",
    "\n",
    "        # Forward pass\n",
    "        outputs = CNN_model(images)\n",
    "        loss = loss_function(outputs, labels)\n",
    "\n",
    "        # Backward pass\n",
    "        optimizer.zero_grad()\n",
    "        loss.backward()\n",
    "        optimizer.step()\n",
    "\n",
    "        running_loss += loss.item()\n",
    "\n",
    "        _, predicted = torch.max(outputs, 1)\n",
    "        total += labels.size(0)\n",
    "        correct += (predicted == labels).sum().item()\n",
    "\n",
    "    epoch_loss = running_loss / len(train_loader)\n",
    "    epoch_accuracy = 100 * correct / total\n",
    "    print(f\"Epoch [{epoch+1}/{epochs}], Loss: {epoch_loss:.4f}, Accuracy: {epoch_accuracy:.2f}%\")"
   ]
  },
  {
   "cell_type": "code",
   "execution_count": 37,
   "id": "d2a5c7aa-c47e-46c3-a627-b6182faa9ee0",
   "metadata": {},
   "outputs": [
    {
     "name": "stdout",
     "output_type": "stream",
     "text": [
      "Test Accuracy: 92.35%\n"
     ]
    }
   ],
   "source": [
    "CNN_model.eval()\n",
    "correct = 0\n",
    "total = 0\n",
    "\n",
    "with torch.no_grad():\n",
    "    for images, labels in test_loader:\n",
    "        images, labels = images.to(device), labels.to(device)\n",
    "        outputs = CNN_model(images)\n",
    "        _, predicted = torch.max(outputs, 1)\n",
    "        total += labels.size(0)\n",
    "        correct += (predicted == labels).sum().item()\n",
    "\n",
    "test_accuracy = 100 * correct / total\n",
    "print(f\"Test Accuracy: {test_accuracy:.2f}%\")"
   ]
  },
  {
   "cell_type": "code",
   "execution_count": 38,
   "id": "4b38c1ce-c7bf-4338-801e-1508b7afeebf",
   "metadata": {},
   "outputs": [
    {
     "name": "stdout",
     "output_type": "stream",
     "text": [
      "----------------------------------------------------------------\n",
      "        Layer (type)               Output Shape         Param #\n",
      "================================================================\n",
      "            Conv2d-1           [-1, 32, 28, 28]             320\n",
      "         MaxPool2d-2           [-1, 32, 14, 14]               0\n",
      "            Conv2d-3           [-1, 64, 14, 14]          18,496\n",
      "         MaxPool2d-4             [-1, 64, 7, 7]               0\n",
      "            Linear-5                  [-1, 128]         401,536\n",
      "            Linear-6                   [-1, 10]           1,290\n",
      "================================================================\n",
      "Total params: 421,642\n",
      "Trainable params: 421,642\n",
      "Non-trainable params: 0\n",
      "----------------------------------------------------------------\n",
      "Input size (MB): 0.00\n",
      "Forward/backward pass size (MB): 0.36\n",
      "Params size (MB): 1.61\n",
      "Estimated Total Size (MB): 1.97\n",
      "----------------------------------------------------------------\n"
     ]
    }
   ],
   "source": [
    "summary(model=CNN_model, input_size=(1,28,28))"
   ]
  },
  {
   "cell_type": "code",
   "execution_count": 39,
   "id": "92441727-368b-447a-a8c1-35c90ba41fe6",
   "metadata": {},
   "outputs": [],
   "source": [
    "torch.save(CNN_model.state_dict(), '../model/(CNN)digit_recognition_model.pth')"
   ]
  },
  {
   "cell_type": "markdown",
   "id": "2fded686-d85a-4ae9-b452-31be0a461cae",
   "metadata": {},
   "source": [
    "***"
   ]
  },
  {
   "cell_type": "markdown",
   "id": "2ab77edf-2aa8-4f76-99e3-96648590fbe3",
   "metadata": {},
   "source": [
    "***"
   ]
  },
  {
   "cell_type": "markdown",
   "id": "891a80c1-676f-486f-8b66-7a4517ac4e30",
   "metadata": {},
   "source": [
    "## <font color=gold> Observation: <font/>\n",
    "1. **Model Performance and Insights**:\n",
    "   - The **ANN model** achieved a training accuracy of **98.02%** and a test accuracy of **91.71**\n",
    "   - The **CNN model** achieved a training accuracy of **97.24%** and a test accuracy of **92.35%**, which highlights its ability to generalize well to unseen data from the same distribution.\n",
    "\n",
    "2. **Performance on Scanned vs. Real-World Images**:\n",
    "   - ANN:\n",
    "     - The model performed exceptionally well on **scanned images**, with predictions closely matching ground truth,but not on Real-World Images.\n",
    "    - CNN:\n",
    "      - The model performed exceptionally well on **scanned images**,as well as on **real-world images** with predictions closely matching ground truth.\n",
    "       "
   ]
  }
 ],
 "metadata": {
  "kernelspec": {
   "display_name": "Python (handwritten_digit_recognition)",
   "language": "python",
   "name": "handwritten_digit_recognition"
  },
  "language_info": {
   "codemirror_mode": {
    "name": "ipython",
    "version": 3
   },
   "file_extension": ".py",
   "mimetype": "text/x-python",
   "name": "python",
   "nbconvert_exporter": "python",
   "pygments_lexer": "ipython3",
   "version": "3.12.8"
  }
 },
 "nbformat": 4,
 "nbformat_minor": 5
}
