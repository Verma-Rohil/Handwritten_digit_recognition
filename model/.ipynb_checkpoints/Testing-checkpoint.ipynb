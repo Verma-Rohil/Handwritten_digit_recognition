{
 "cells": [
  {
   "cell_type": "code",
   "execution_count": 1,
   "id": "a391fbe6-4fb5-4282-84df-9d13cb0b2e77",
   "metadata": {},
   "outputs": [
    {
     "data": {
      "text/plain": [
       "ANNmodel(\n",
       "  (network): Sequential(\n",
       "    (0): Linear(in_features=784, out_features=128, bias=True)\n",
       "    (1): BatchNorm1d(128, eps=1e-05, momentum=0.1, affine=True, track_running_stats=True)\n",
       "    (2): ReLU()\n",
       "    (3): Linear(in_features=128, out_features=64, bias=True)\n",
       "    (4): BatchNorm1d(64, eps=1e-05, momentum=0.1, affine=True, track_running_stats=True)\n",
       "    (5): ReLU()\n",
       "    (6): Linear(in_features=64, out_features=10, bias=True)\n",
       "  )\n",
       ")"
      ]
     },
     "execution_count": 1,
     "metadata": {},
     "output_type": "execute_result"
    }
   ],
   "source": [
    "import torch\n",
    "from torchvision import transforms\n",
    "from PIL import Image\n",
    "import torch.nn as nn\n",
    "\n",
    "class ANNmodel(nn.Module):\n",
    "    def __init__(self, num_features):\n",
    "        super().__init__()\n",
    "        self.network = nn.Sequential(\n",
    "            nn.Linear(num_features,128),\n",
    "            nn.BatchNorm1d(128),\n",
    "            nn.ReLU(),\n",
    "            nn.Linear(128,64),\n",
    "            nn.BatchNorm1d(64),\n",
    "            nn.ReLU(),\n",
    "            nn.Linear(64,10)\n",
    "        )\n",
    "\n",
    "    def forward(self, features):\n",
    "        out = self.network(features)\n",
    "\n",
    "        return out\n",
    "        \n",
    "        \n",
    "\n",
    "model = ANNmodel(num_features=784)\n",
    "model.load_state_dict(torch.load(\"../model/Ann_digit_recognition.pth\",weights_only=True))\n",
    "model.eval()"
   ]
  },
  {
   "cell_type": "code",
   "execution_count": 9,
   "id": "41dfe353-3596-4783-990c-cfb37674f4c8",
   "metadata": {},
   "outputs": [],
   "source": [
    "transform = transforms.Compose([\n",
    "     transforms.Resize((28,28)),\n",
    "    transforms.ToTensor(),\n",
    "    transforms.Normalize((0.5,),(0.5,))\n",
    "])"
   ]
  },
  {
   "cell_type": "code",
   "execution_count": 12,
   "id": "1e9f3e70-d80b-41a3-9f2f-8a84702424d2",
   "metadata": {},
   "outputs": [],
   "source": [
    "def predict_digit_by_ANN(image_path):\n",
    "    # Open the image\n",
    "    image = Image.open(image_path)\n",
    "\n",
    "    # Apply the transformation\n",
    "    image = transform(image).unsqueeze(0)  # Add batch dimension (shape: 1, 1, 28, 28)\n",
    "\n",
    "    # Flatten the image to (1, 784)\n",
    "    image = image.view(-1, 28*28)  # Flatten the image\n",
    "\n",
    "    # Perform the inference\n",
    "    with torch.no_grad():\n",
    "        outputs = model(image)\n",
    "        _, predicted = torch.max(outputs, 1)\n",
    "        # predicted_digit = predicted.item()\n",
    "\n",
    "    return predicted_digit\n"
   ]
  },
  {
   "cell_type": "code",
   "execution_count": 14,
   "id": "37e5aae3-7492-4ecd-9522-aa8e6d5240fc",
   "metadata": {},
   "outputs": [
    {
     "name": "stdout",
     "output_type": "stream",
     "text": [
      "Predicted digit for C:\\Users\\rohil\\Downloads\\0.png: 9\n",
      "Predicted digit for ../testingfolder/1.png: 9\n",
      "Predicted digit for ../testingfolder/2.jpg: 9\n",
      "Predicted digit for ../testingfolder/3.jpg: 9\n",
      "Predicted digit for ../testingfolder/4.jpeg: 9\n"
     ]
    }
   ],
   "source": [
    "image_paths =[\"C:\\\\Users\\\\rohil\\\\Downloads\\\\0.png\" , '../testingfolder/1.png', '../testingfolder/2.jpg', \"../testingfolder/3.jpg\",\n",
    "             '../testingfolder/4.jpeg']\n",
    "\n",
    "for image_path in image_paths:\n",
    "    predicted_digit = predict_digit_by_ANN(image_path)\n",
    "    print(f\"Predicted digit for {image_path}: {predicted_digit}\")"
   ]
  },
  {
   "cell_type": "code",
   "execution_count": null,
   "id": "15e8c95a-835a-46e1-9a46-0761ad4e52db",
   "metadata": {},
   "outputs": [],
   "source": []
  }
 ],
 "metadata": {
  "kernelspec": {
   "display_name": "Python (handwritten_digit_recognition)",
   "language": "python",
   "name": "handwritten_digit_recognition"
  },
  "language_info": {
   "codemirror_mode": {
    "name": "ipython",
    "version": 3
   },
   "file_extension": ".py",
   "mimetype": "text/x-python",
   "name": "python",
   "nbconvert_exporter": "python",
   "pygments_lexer": "ipython3",
   "version": "3.12.8"
  }
 },
 "nbformat": 4,
 "nbformat_minor": 5
}
