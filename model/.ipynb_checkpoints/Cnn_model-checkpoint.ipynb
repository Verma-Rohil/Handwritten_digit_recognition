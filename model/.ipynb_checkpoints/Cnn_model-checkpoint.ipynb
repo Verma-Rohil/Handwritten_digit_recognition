{
 "cells": [
  {
   "cell_type": "markdown",
   "id": "be97e53f-12fe-45ed-96e9-f7c61e731297",
   "metadata": {},
   "source": [
    "# CNN Architecture"
   ]
  },
  {
   "cell_type": "markdown",
   "id": "0261b88e-d68f-45ea-a75c-305c8a53dd8d",
   "metadata": {},
   "source": [
    "##### Name : Rohil Verma"
   ]
  },
  {
   "cell_type": "code",
   "execution_count": 9,
   "id": "1c8fd133-019c-4426-8a63-9dca98e974ff",
   "metadata": {},
   "outputs": [
    {
     "data": {
      "text/plain": [
       "'2.5.1+cpu'"
      ]
     },
     "execution_count": 9,
     "metadata": {},
     "output_type": "execute_result"
    }
   ],
   "source": [
    "import torch\n",
    "import torch.nn as nn\n",
    "from torchvision.datasets import ImageFolder\n",
    "from torchvision.transforms import transforms\n",
    "from torch.utils.data import Dataset, DataLoader\n",
    "\n",
    "import matplotlib.pyplot as plt\n",
    "torch.__version__"
   ]
  },
  {
   "cell_type": "code",
   "execution_count": 10,
   "id": "40bba149-98ad-4399-af8b-fc159b755d07",
   "metadata": {},
   "outputs": [
    {
     "data": {
      "text/plain": [
       "device(type='cpu')"
      ]
     },
     "execution_count": 10,
     "metadata": {},
     "output_type": "execute_result"
    }
   ],
   "source": [
    "device = torch.device(\"cuda\" if torch.cuda.is_available() else \"cpu\")\n",
    "device"
   ]
  },
  {
   "cell_type": "code",
   "execution_count": 11,
   "id": "e6504b64-7aaf-44cc-a911-4f982160ec8d",
   "metadata": {},
   "outputs": [],
   "source": [
    "from torchvision import datasets\n",
    "from torch.utils.data import random_split"
   ]
  },
  {
   "cell_type": "code",
   "execution_count": 12,
   "id": "5719a737-1dc1-4593-81d7-f76d517999f4",
   "metadata": {},
   "outputs": [
    {
     "name": "stdout",
     "output_type": "stream",
     "text": [
      "torch.Size([32, 1, 28, 28]) torch.Size([32])\n",
      "training Dataset size : 25372\n",
      "testing Dataset size : 6343\n"
     ]
    }
   ],
   "source": [
    "transform = transforms.Compose(\n",
    "            [transforms.Grayscale(num_output_channels=1),\n",
    "             transforms.Resize((28,28)),\n",
    "             transforms.ToTensor(),\n",
    "             transforms.Normalize((0.5,),(0.5,))\n",
    "             ])\n",
    "\n",
    "dataset = datasets.ImageFolder(root= '../dataset/', transform= transform)\n",
    "\n",
    "train_size = int(0.8 * len(dataset))\n",
    "test_size = len(dataset) - train_size\n",
    "\n",
    "train_set , test_set = random_split(dataset, [train_size, test_size])\n",
    "\n",
    "# DataLoader\n",
    "train_loader = DataLoader(train_set, batch_size= 32 , shuffle= True)\n",
    "test_loader = DataLoader(test_set, batch_size= 32, shuffle= False)\n",
    "\n",
    "for images,labels in test_loader:\n",
    "    print(images.shape,labels.shape)\n",
    "    break\n",
    "\n",
    "print(f'training Dataset size : {len(train_set)}')\n",
    "print(f'testing Dataset size : {len(test_set)}')"
   ]
  },
  {
   "cell_type": "code",
   "execution_count": 13,
   "id": "97e7e655-ee81-42e2-bddd-e45a9cda066e",
   "metadata": {},
   "outputs": [
    {
     "data": {
      "image/png": "[encoded data removed]",
      "text/plain": [
       "<Figure size 640x480 with 1 Axes>"
      ]
     },
     "metadata": {},
     "output_type": "display_data"
    }
   ],
   "source": [
    "for images,labels in train_loader:\n",
    "    plt.imshow(images[0].squeeze(), cmap='gray')\n",
    "    plt.title(f'Label: {labels[0]}')\n",
    "    plt.show()\n",
    "    break"
   ]
  },
  {
   "cell_type": "markdown",
   "id": "fcf927a6-91b0-42f0-ad93-cecd7a45654d",
   "metadata": {},
   "source": [
    "# Define Model"
   ]
  },
  {
   "cell_type": "code",
   "execution_count": 14,
   "id": "7e3dd761-88bb-41f5-960e-e130a287a25c",
   "metadata": {},
   "outputs": [],
   "source": [
    "import torch.nn.functional as F"
   ]
  },
  {
   "cell_type": "code",
   "execution_count": 15,
   "id": "afd88d08-381e-4599-a80f-27d651e20354",
   "metadata": {},
   "outputs": [],
   "source": [
    "class CNNmodel(nn.Module):\n",
    "    def __init__(self):\n",
    "        super(CNNmodel,self).__init__()\n",
    "        # convolutional layers\n",
    "        self.conv1 = nn.Conv2d(in_channels= 1, out_channels= 32, kernel_size= 3, stride=1,padding=1)\n",
    "        self.conv2 = nn.Conv2d(in_channels= 32, out_channels= 64, kernel_size= 3, stride=1,padding=1)\n",
    "\n",
    "        # pooling layers\n",
    "        self.pool = nn.MaxPool2d(kernel_size=3,stride=2,padding=1)\n",
    "\n",
    "        # fully connected layers\n",
    "        self.fc1 = nn.Linear(64*7*7,128) \n",
    "        self.fc2 = nn.Linear(128,64)\n",
    "        self.fc3 = nn.Linear(64,10)\n",
    "\n",
    "\n",
    "    def forward(self,x):\n",
    "        x = self.pool(F.relu(self.conv1(x)))  # Convolution -> ReLU -> Pooling\n",
    "        x = self.pool(F.relu(self.conv2(x)))\n",
    "        x = x.view(x.size(0), -1)  # for flattening\n",
    "        x = F.relu(self.fc1(x))\n",
    "        x = F.relu(self.fc2(x))\n",
    "        x = self.fc3(x)\n",
    "\n",
    "        return x"
   ]
  },
  {
   "cell_type": "code",
   "execution_count": 16,
   "id": "d5f223aa-11b0-4b00-afe7-863aa508997b",
   "metadata": {},
   "outputs": [],
   "source": [
    "learning_rate = 0.01\n",
    "epochs = 10"
   ]
  },
  {
   "cell_type": "markdown",
   "id": "4399646d-7ab7-4e8f-88d4-8f0560a74dd9",
   "metadata": {},
   "source": [
    "# Train Model"
   ]
  },
  {
   "cell_type": "code",
   "execution_count": 17,
   "id": "16b38d0b-a78c-4812-83c6-54f808df541b",
   "metadata": {},
   "outputs": [
    {
     "name": "stdout",
     "output_type": "stream",
     "text": [
      " Epoch : [1/10], Loss : 2.2795, Accuracy : 21.1059\n",
      " Epoch : [2/10], Loss : 1.6159, Accuracy : 49.0817\n",
      " Epoch : [3/10], Loss : 0.8032, Accuracy : 74.7517\n",
      " Epoch : [4/10], Loss : 0.4676, Accuracy : 85.2633\n",
      " Epoch : [5/10], Loss : 0.3148, Accuracy : 90.3437\n",
      " Epoch : [6/10], Loss : 0.2518, Accuracy : 92.3144\n",
      " Epoch : [7/10], Loss : 0.1897, Accuracy : 94.1904\n",
      " Epoch : [8/10], Loss : 0.1562, Accuracy : 95.2113\n",
      " Epoch : [9/10], Loss : 0.1329, Accuracy : 95.9246\n",
      " Epoch : [10/10], Loss : 0.1159, Accuracy : 96.4567\n"
     ]
    }
   ],
   "source": [
    "# Create model object\n",
    "Cnn_model = CNNmodel()\n",
    "\n",
    "# create loss_function\n",
    "loss_func = nn.CrossEntropyLoss()\n",
    "\n",
    "# create optimizer\n",
    "optimizer = torch.optim.SGD(Cnn_model.parameters(), lr = learning_rate)\n",
    "\n",
    "\n",
    "for epoch in range(epochs):\n",
    "    running_loss = 0\n",
    "    correct = 0\n",
    "    total = 0\n",
    "    \n",
    "    for images, labels in train_loader:\n",
    "\n",
    "        optimizer.zero_grad()         # Reset gradients\n",
    "        outputs = Cnn_model(images)   # forward pass\n",
    "        loss = loss_func(outputs, labels) # Computing loss\n",
    "        loss.backward()   # backward pass\n",
    "        optimizer.step()  # Updating grads\n",
    "\n",
    "        running_loss += loss.item()\n",
    "        total_epoch_loss = running_loss/ len(train_loader)\n",
    "        _,predicted = torch.max(outputs,1)\n",
    "        total += labels.size(0)\n",
    "        correct += (predicted == labels).sum().item()\n",
    "\n",
    "    accuracy = 100 * (correct/total)\n",
    "    print(f' Epoch : [{epoch+1}/{epochs}], Loss : {total_epoch_loss:.4f}, Accuracy : {accuracy:.4f}')"
   ]
  },
  {
   "cell_type": "markdown",
   "id": "a1d515d5-65d3-4f83-9d66-8376b1885d72",
   "metadata": {},
   "source": [
    "# Model Evaluation:"
   ]
  },
  {
   "cell_type": "code",
   "execution_count": 18,
   "id": "bf025b98-e44c-4dd6-826e-28731e01538e",
   "metadata": {},
   "outputs": [
    {
     "name": "stdout",
     "output_type": "stream",
     "text": [
      "Train Accuracy : 96.3740\n"
     ]
    }
   ],
   "source": [
    "Cnn_model.eval()\n",
    "total = 0\n",
    "correct = 0\n",
    "\n",
    "with torch.no_grad():\n",
    "    for images,labels in train_loader:\n",
    "        outputs = Cnn_model(images)\n",
    "        _,predicted = torch.max(outputs,1)\n",
    "        total+= labels.size(0)\n",
    "        correct += (predicted==labels).sum().item()\n",
    "\n",
    "accuracy = 100 * (correct/total)\n",
    "print(f'Train Accuracy : {accuracy:.4f}')    "
   ]
  },
  {
   "cell_type": "code",
   "execution_count": 19,
   "id": "b4ca2ea2-c292-4853-a6b0-bf39bad501d9",
   "metadata": {},
   "outputs": [
    {
     "name": "stdout",
     "output_type": "stream",
     "text": [
      "Test Accuracy : 95.0339\n"
     ]
    }
   ],
   "source": [
    "Cnn_model.eval()\n",
    "total = 0\n",
    "correct = 0\n",
    "\n",
    "with torch.no_grad():\n",
    "    for images,labels in test_loader:\n",
    "        outputs = Cnn_model(images)\n",
    "        _,predicted = torch.max(outputs,1)\n",
    "        total+= labels.size(0)\n",
    "        correct += (predicted==labels).sum().item()\n",
    "\n",
    "accuracy = 100 * (correct/total)\n",
    "print(f'Test Accuracy : {accuracy:.4f}')    "
   ]
  },
  {
   "cell_type": "markdown",
   "id": "daef9b6d-d703-4334-a544-54976bef256a",
   "metadata": {},
   "source": [
    "### Saving model"
   ]
  },
  {
   "cell_type": "code",
   "execution_count": 20,
   "id": "cd6032d8-990e-4625-ac81-ec9330e0e3ab",
   "metadata": {},
   "outputs": [],
   "source": [
    "torch.save(Cnn_model.state_dict(), \"../model/Cnn_digit_recognition.pth\")"
   ]
  },
  {
   "cell_type": "code",
   "execution_count": null,
   "id": "65de7db3-30f7-4a9a-bdfb-897e93a188b3",
   "metadata": {},
   "outputs": [],
   "source": []
  }
 ],
 "metadata": {
  "kernelspec": {
   "display_name": "Python (handwritten_digit_recognition)",
   "language": "python",
   "name": "handwritten_digit_recognition"
  },
  "language_info": {
   "codemirror_mode": {
    "name": "ipython",
    "version": 3
   },
   "file_extension": ".py",
   "mimetype": "text/x-python",
   "name": "python",
   "nbconvert_exporter": "python",
   "pygments_lexer": "ipython3",
   "version": "3.12.8"
  }
 },
 "nbformat": 4,
 "nbformat_minor": 5
}
