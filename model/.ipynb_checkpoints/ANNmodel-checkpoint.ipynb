{
 "cells": [
  {
   "cell_type": "markdown",
   "id": "f48b5269-e407-4cd2-aa1a-0fa9d3fa6197",
   "metadata": {},
   "source": [
    "# Hand written digit recognition through ANN"
   ]
  },
  {
   "cell_type": "code",
   "execution_count": 1,
   "id": "7d456dc9-b48e-4802-82a3-409a15248932",
   "metadata": {},
   "outputs": [],
   "source": [
    "import numpy as np\n",
    "import pandas as pd\n",
    "import torch\n",
    "import cv2\n",
    "from torch.utils.data import Dataset, DataLoader, random_split\n",
    "import torch.nn as nn\n",
    "import matplotlib.pyplot as plt\n",
    "from torchvision.datasets import ImageFolder\n",
    "from torchvision.transforms import transforms\n",
    "import os"
   ]
  },
  {
   "cell_type": "markdown",
   "id": "e738a680-2fe2-4c73-9af1-dc0772156ac3",
   "metadata": {},
   "source": [
    "# Image processing and transformation"
   ]
  },
  {
   "cell_type": "code",
   "execution_count": 2,
   "id": "2268dbd5-1d3d-444a-bc01-6cfefde02464",
   "metadata": {},
   "outputs": [],
   "source": [
    "class CustomDataset(Dataset):\n",
    "    def __init__(self, direc):\n",
    "        self.direc = direc\n",
    "        self.data = []  # Stores (image, label) pairs\n",
    "        self.tranform = transforms.Compose(\n",
    "            [transforms.ToTensor(),\n",
    "             transforms.Normalize((0.5,),(0.5,)),  # Normalized from (0,255) to [-1,1] for better training stability\n",
    "             transforms.RandomRotation(10),        # Rotate image randomly\n",
    "             transforms.RandomHorizontalFlip()])    # Flip image randomly])\n",
    "                                                                                         \n",
    "        \n",
    "\n",
    "        for label in range(10):\n",
    "            Folder_path = os.path.join(direc, str(label))  # # e.g., dataset/0, dataset/1, ...\n",
    "            if not os.path.exists(Folder_path):\n",
    "                continue\n",
    "\n",
    "            for img_name in os.listdir(Folder_path):\n",
    "                img_path = os.path.join(Folder_path, img_name) # the folder path is joined by image name...\n",
    "\n",
    "\n",
    "                img = cv2.imread(img_path, cv2.IMREAD_GRAYSCALE) # all images have been loaded into img\n",
    "                if img is None:\n",
    "                    continue\n",
    "                img = cv2.resize(img, (28,28)) \n",
    "                img = self.tranform(img) # transformation applied to the images\n",
    "\n",
    "                self.data.append((img,label)) # whole img with their label is appended into data\n",
    "\n",
    "\n",
    "    def __len__(self):\n",
    "        return len(self.data)\n",
    "\n",
    "\n",
    "    def __getitem__(self, idx):\n",
    "        return self.data[idx]    # Returns (image, label) pair\n",
    "\n",
    "            \n"
   ]
  },
  {
   "cell_type": "code",
   "execution_count": 3,
   "id": "99f0ff4a-1872-44ff-b908-d5e1b8227e7b",
   "metadata": {},
   "outputs": [
    {
     "data": {
      "text/plain": [
       "31715"
      ]
     },
     "execution_count": 3,
     "metadata": {},
     "output_type": "execute_result"
    }
   ],
   "source": [
    "image_path = \"../dataset/\"\n",
    "\n",
    "digit_data = CustomDataset(image_path)\n",
    "len(digit_data)"
   ]
  },
  {
   "cell_type": "code",
   "execution_count": 4,
   "id": "7bb23f09-4aa6-4ae2-b38f-7bb0c2df216e",
   "metadata": {},
   "outputs": [
    {
     "name": "stdout",
     "output_type": "stream",
     "text": [
      "Image 0: Shape = torch.Size([1, 28, 28]), Label = 0\n",
      "Image 1: Shape = torch.Size([1, 28, 28]), Label = 0\n",
      "Image 2: Shape = torch.Size([1, 28, 28]), Label = 0\n",
      "Image 3: Shape = torch.Size([1, 28, 28]), Label = 0\n",
      "Image 4: Shape = torch.Size([1, 28, 28]), Label = 0\n",
      "Total Dataset Size: 31715\n"
     ]
    }
   ],
   "source": [
    "for i in range(0,5):\n",
    "    img, label = digit_data[i]\n",
    "    print(f\"Image {i}: Shape = {img.shape}, Label = {label}\")\n",
    "\n",
    "# Verify Train/Test Split\n",
    "print(f\"Total Dataset Size: {len(digit_data)}\")\n",
    "# print(f\"Training Set Size: {len(train_dataset)}\")\n",
    "# print(f\"Testing Set Size: {len(test_dataset)}\")"
   ]
  },
  {
   "cell_type": "code",
   "execution_count": 5,
   "id": "9a9922cc-ac3c-4c3c-b0b9-0ba167cf439f",
   "metadata": {},
   "outputs": [],
   "source": [
    "# print(f\"Total images loaded: {len(digit_data)}\")\n",
    "\n",
    "# # Example: Fetch first image & label\n",
    "# sample_img, sample_label = digit_data[0]\n",
    "# print(f\"Sample image shape: {sample_img}, Label: {sample_label}\")"
   ]
  },
  {
   "cell_type": "markdown",
   "id": "ed37864c-d73e-407e-8dc7-c8fe9ae5ee4d",
   "metadata": {},
   "source": [
    "# ANN Model Development"
   ]
  },
  {
   "cell_type": "markdown",
   "id": "9a34641c-9eea-4f49-8c33-7341836e3653",
   "metadata": {},
   "source": [
    "### Tasks to be done to create the model:\n",
    "1. As we have prepared the dataset(digit_data), Now we have to split this data into train and test dataset.\n",
    "2. we will use DataLoader For batch processing.\n",
    "3. Then we will define the ANN model.\n",
    "### Model Training:\n",
    "1. we will assume learning_rate(0.1) and epochs.\n",
    "2. Create loss function, generate optimizers.\n",
    "3. running epochs in training data.\n",
    "4. Calculate loss and accuracy for each epoch, So that we could understand how the model is working.\n",
    "#### Finally evaluate the model by running it on test_data and check the accuracy."
   ]
  },
  {
   "cell_type": "code",
   "execution_count": 6,
   "id": "eee120f8-2676-4d75-a411-344957b98b9e",
   "metadata": {},
   "outputs": [
    {
     "name": "stdout",
     "output_type": "stream",
     "text": [
      " Number of training images : 25372 \n",
      " Number of testing images : 6343 \n"
     ]
    }
   ],
   "source": [
    "train_size = int(0.8 * len(digit_data))\n",
    "test_size = len(digit_data) - train_size\n",
    "\n",
    "train_dataset , test_dataset = random_split(dataset= digit_data, lengths= [train_size, test_size])\n",
    "\n",
    "print(f' Number of training images : {len(train_dataset)} ')\n",
    "print(f' Number of testing images : {len(test_dataset)} ')"
   ]
  },
  {
   "cell_type": "markdown",
   "id": "e5489435-6646-4ddf-b7e4-d1b7e1f64665",
   "metadata": {},
   "source": [
    "# Using Dataloader for batch processing"
   ]
  },
  {
   "cell_type": "code",
   "execution_count": 7,
   "id": "ebc8afbd-7b0b-4a51-b9b1-649cd9d3cb1d",
   "metadata": {},
   "outputs": [
    {
     "data": {
      "image/png": "[encoded data removed]",
      "text/plain": [
       "<Figure size 640x480 with 6 Axes>"
      ]
     },
     "metadata": {},
     "output_type": "display_data"
    }
   ],
   "source": [
    "train_loader = DataLoader(train_dataset, batch_size= 32, shuffle= True)\n",
    "test_loader = DataLoader(test_dataset, batch_size= 32, shuffle= False)\n",
    "\n",
    "for images,labels in test_loader:\n",
    "    for i in range(6):\n",
    "        plt.subplot(2,3,i+1)\n",
    "        plt.imshow(images[i].squeeze(), cmap='gray')\n",
    "        plt.title(f\"Label: {labels[i].item()}\")\n",
    "        plt.axis('off')\n",
    "    break\n",
    "plt.show()"
   ]
  },
  {
   "cell_type": "code",
   "execution_count": 8,
   "id": "17522643-1b33-43f8-972e-b029e1ab0489",
   "metadata": {},
   "outputs": [
    {
     "data": {
      "text/plain": [
       "199"
      ]
     },
     "execution_count": 8,
     "metadata": {},
     "output_type": "execute_result"
    }
   ],
   "source": [
    "len(test_loader)"
   ]
  },
  {
   "cell_type": "markdown",
   "id": "fa4647e5-25e0-4cd4-915c-6af08e106db3",
   "metadata": {},
   "source": [
    "# Define Model"
   ]
  },
  {
   "cell_type": "code",
   "execution_count": 31,
   "id": "f512e503-f840-4b85-a104-475fc944fc8f",
   "metadata": {},
   "outputs": [],
   "source": [
    "# class ANNmodel(nn.Module):\n",
    "#     def __init__(self, num_features):\n",
    "#         super().__init__()\n",
    "#         self.network = nn.Sequential(\n",
    "#             nn.Linear(num_features,128),\n",
    "#             # nn.BatchNorm1d(128),\n",
    "#             nn.ReLU(),\n",
    "#             # nn.Dropout(0.2),\n",
    "#             nn.Linear(128,64),\n",
    "#             nn.BatchNorm1d(64),\n",
    "#             nn.ReLU(),\n",
    "#             # nn.Dropout(0.2),\n",
    "#             nn.Linear(64,10)\n",
    "#         )\n",
    "\n",
    "#     def forward(self, features):\n",
    "#         out = self.network(features)\n",
    "\n",
    "#         return out        "
   ]
  },
  {
   "cell_type": "code",
   "execution_count": 9,
   "id": "f35b445d-0cf0-4921-bc9f-bc141b60b26b",
   "metadata": {},
   "outputs": [],
   "source": [
    "class Ann_model(nn.Module):\n",
    "    def __init__(self, num_features):\n",
    "        super().__init__()\n",
    "        self.network = nn.Sequential(\n",
    "                nn.Linear(num_features,224),\n",
    "                # nn.BatchNorm1d(224),\n",
    "                nn.ReLU(),\n",
    "                # nn.Dropout(0.1),\n",
    "                nn.Linear(224,64),\n",
    "                # nn.BatchNorm1d(64),\n",
    "                nn.ReLU(),\n",
    "                nn.Linear(64,96),\n",
    "                # nn.BatchNorm1d(96),\n",
    "                nn.ReLU(),\n",
    "                nn.Linear(96,192),\n",
    "                # nn.BatchNorm1d(192),\n",
    "                nn.ReLU(),\n",
    "                nn.Linear(192,10))\n",
    "\n",
    "    def forward(self,features):\n",
    "        out = self.network(features)\n",
    "        return out"
   ]
  },
  {
   "cell_type": "raw",
   "id": "a407b9fa-c003-4e9e-ab51-0d07d061e50c",
   "metadata": {},
   "source": [
    "ANNModel(\n",
    "  (network): Sequential(\n",
    "    (0): Linear(in_features=784, out_features=224, bias=True)\n",
    "    (1): BatchNorm1d(224, eps=1e-05, momentum=0.1, affine=True, track_running_stats=True)\n",
    "    (2): ReLU()\n",
    "    (3): Linear(in_features=224, out_features=64, bias=True)\n",
    "    (4): BatchNorm1d(64, eps=1e-05, momentum=0.1, affine=True, track_running_stats=True)\n",
    "    (5): ReLU()\n",
    "    (6): Linear(in_features=64, out_features=96, bias=True)\n",
    "    (7): BatchNorm1d(96, eps=1e-05, momentum=0.1, affine=True, track_running_stats=True)\n",
    "    (8): ReLU()\n",
    "    (9): Linear(in_features=96, out_features=192, bias=True)\n",
    "    (10): BatchNorm1d(192, eps=1e-05, momentum=0.1, affine=True, track_running_stats=True)\n",
    "    (11): ReLU()\n",
    "    (12): Linear(in_features=192, out_features=10, bias=True)\n",
    "  )\n",
    ")"
   ]
  },
  {
   "cell_type": "code",
   "execution_count": 10,
   "id": "21820923-fc81-408a-8bcc-c7bbe1046947",
   "metadata": {},
   "outputs": [
    {
     "data": {
      "text/plain": [
       "784"
      ]
     },
     "execution_count": 10,
     "metadata": {},
     "output_type": "execute_result"
    }
   ],
   "source": [
    "image,label = train_dataset[0]\n",
    "height,width = image.shape[1],image.shape[2]\n",
    "num_features = height*width\n",
    "num_features"
   ]
  },
  {
   "cell_type": "code",
   "execution_count": 11,
   "id": "d76f4ac8-cb9e-4448-abf4-9cb34efe2407",
   "metadata": {},
   "outputs": [
    {
     "data": {
      "text/plain": [
       "Ann_model(\n",
       "  (network): Sequential(\n",
       "    (0): Linear(in_features=784, out_features=224, bias=True)\n",
       "    (1): ReLU()\n",
       "    (2): Linear(in_features=224, out_features=64, bias=True)\n",
       "    (3): ReLU()\n",
       "    (4): Linear(in_features=64, out_features=96, bias=True)\n",
       "    (5): ReLU()\n",
       "    (6): Linear(in_features=96, out_features=192, bias=True)\n",
       "    (7): ReLU()\n",
       "    (8): Linear(in_features=192, out_features=10, bias=True)\n",
       "  )\n",
       ")"
      ]
     },
     "execution_count": 11,
     "metadata": {},
     "output_type": "execute_result"
    }
   ],
   "source": [
    "model = Ann_model(num_features)\n",
    "model"
   ]
  },
  {
   "cell_type": "markdown",
   "id": "6da07a8b-13a8-4763-9220-1b44517b28a2",
   "metadata": {},
   "source": [
    "# Train Model"
   ]
  },
  {
   "cell_type": "code",
   "execution_count": 12,
   "id": "d6b75c7b-50e4-4d94-a79f-1182631a84ab",
   "metadata": {},
   "outputs": [],
   "source": [
    "learning_rate = 0.002\n",
    "epochs = 30"
   ]
  },
  {
   "cell_type": "code",
   "execution_count": 13,
   "id": "25472f33-ffe2-42cb-b44c-bd6c59faa379",
   "metadata": {},
   "outputs": [],
   "source": [
    "loss_func = nn.CrossEntropyLoss()\n",
    "optimizers = torch.optim.Adam(model.parameters(), lr= learning_rate)"
   ]
  },
  {
   "cell_type": "code",
   "execution_count": 14,
   "id": "85dcde76-e0ff-4802-a455-ae443186a9ee",
   "metadata": {},
   "outputs": [
    {
     "data": {
      "text/plain": [
       "793"
      ]
     },
     "execution_count": 14,
     "metadata": {},
     "output_type": "execute_result"
    }
   ],
   "source": [
    "len(train_loader)"
   ]
  },
  {
   "cell_type": "code",
   "execution_count": 15,
   "id": "0ff49917-b814-4748-a207-f6faa5212059",
   "metadata": {},
   "outputs": [
    {
     "name": "stdout",
     "output_type": "stream",
     "text": [
      "Epoch : [1/30], Loss : 1.71, Epoch Accuracy : 37.8015\n",
      "Epoch : [2/30], Loss : 1.43, Epoch Accuracy : 49.8266\n",
      "Epoch : [3/30], Loss : 1.32, Epoch Accuracy : 54.1502\n",
      "Epoch : [4/30], Loss : 1.23, Epoch Accuracy : 57.4610\n",
      "Epoch : [5/30], Loss : 1.15, Epoch Accuracy : 60.4643\n",
      "Epoch : [6/30], Loss : 1.08, Epoch Accuracy : 63.0892\n",
      "Epoch : [7/30], Loss : 1.02, Epoch Accuracy : 65.2215\n",
      "Epoch : [8/30], Loss : 0.97, Epoch Accuracy : 66.7823\n",
      "Epoch : [9/30], Loss : 0.91, Epoch Accuracy : 68.5283\n",
      "Epoch : [10/30], Loss : 0.86, Epoch Accuracy : 70.5699\n",
      "Epoch : [11/30], Loss : 0.83, Epoch Accuracy : 71.1493\n",
      "Epoch : [12/30], Loss : 0.81, Epoch Accuracy : 72.4736\n",
      "Epoch : [13/30], Loss : 0.77, Epoch Accuracy : 73.5299\n",
      "Epoch : [14/30], Loss : 0.73, Epoch Accuracy : 74.5743\n",
      "Epoch : [15/30], Loss : 0.72, Epoch Accuracy : 75.3705\n",
      "Epoch : [16/30], Loss : 0.70, Epoch Accuracy : 75.7489\n",
      "Epoch : [17/30], Loss : 0.68, Epoch Accuracy : 76.5371\n",
      "Epoch : [18/30], Loss : 0.66, Epoch Accuracy : 76.8485\n",
      "Epoch : [19/30], Loss : 0.64, Epoch Accuracy : 77.6013\n",
      "Epoch : [20/30], Loss : 0.66, Epoch Accuracy : 77.4121\n",
      "Epoch : [21/30], Loss : 0.62, Epoch Accuracy : 78.3817\n",
      "Epoch : [22/30], Loss : 0.61, Epoch Accuracy : 78.6300\n",
      "Epoch : [23/30], Loss : 0.60, Epoch Accuracy : 79.0872\n",
      "Epoch : [24/30], Loss : 0.60, Epoch Accuracy : 79.3355\n",
      "Epoch : [25/30], Loss : 0.58, Epoch Accuracy : 79.7887\n",
      "Epoch : [26/30], Loss : 0.57, Epoch Accuracy : 80.3642\n",
      "Epoch : [27/30], Loss : 0.57, Epoch Accuracy : 80.5494\n",
      "Epoch : [28/30], Loss : 0.56, Epoch Accuracy : 80.6401\n",
      "Epoch : [29/30], Loss : 0.55, Epoch Accuracy : 80.9514\n",
      "Epoch : [30/30], Loss : 0.53, Epoch Accuracy : 81.4086\n"
     ]
    }
   ],
   "source": [
    "for epoch in range(epochs):\n",
    "    correct = 0\n",
    "    total = 0\n",
    "    total_epoch_loss = 0\n",
    "    for images , labels in train_loader:\n",
    "        # Flatten images (MNIST images are 28x28)\n",
    "        # images = images.view(-1, 28*28)\n",
    "        images = images.view(images.size(0), -1)\n",
    "        \n",
    "        # forward pass\n",
    "        outputs = model(images)\n",
    "\n",
    "        # calculate loss \n",
    "        loss = loss_func(outputs, labels)\n",
    "        \n",
    "\n",
    "        # backward pass\n",
    "        optimizers.zero_grad()\n",
    "        loss.backward()\n",
    "        \n",
    "        # update grads\n",
    "        optimizers.step()\n",
    "\n",
    "        total_epoch_loss = total_epoch_loss + loss.item()\n",
    "        _,predicted = torch.max(outputs,1)\n",
    "        total += labels.size(0)\n",
    "        correct += (predicted==labels).sum().item()\n",
    "\n",
    "    avg_loss = total_epoch_loss/len(train_loader)\n",
    "    epoch_accuracy = 100 * (correct/total)\n",
    "\n",
    "    print(f\"Epoch : [{epoch + 1}/{epochs}], Loss : {avg_loss:.2f}, Epoch Accuracy : {epoch_accuracy:.4f}\")"
   ]
  },
  {
   "cell_type": "code",
   "execution_count": 16,
   "id": "699d7b61-193c-4179-a18f-e84dd12ed7dc",
   "metadata": {},
   "outputs": [
    {
     "name": "stdout",
     "output_type": "stream",
     "text": [
      "Train Accuracy: 80.72%\n"
     ]
    }
   ],
   "source": [
    "model.eval()\n",
    "correct = 0\n",
    "total =  0\n",
    "\n",
    "with torch.no_grad():\n",
    "    for images, labels in train_loader:\n",
    "        images = images.view(-1, 28*28)\n",
    "        # labels = labels.to(device)\n",
    "        outputs = model(images)\n",
    "        _, predicted = torch.max(outputs, 1)\n",
    "        total += labels.size(0)\n",
    "        correct += (predicted == labels).sum().item()\n",
    "        # print(f\"Predict: {predicted}, Lable: {label}\")\n",
    "\n",
    "test_accuracy = 100 * correct / total\n",
    "print(f\"Train Accuracy: {test_accuracy:.2f}%\")"
   ]
  },
  {
   "cell_type": "code",
   "execution_count": 18,
   "id": "7fb382a5-38de-46e2-a9c0-7d03e4edb505",
   "metadata": {},
   "outputs": [
    {
     "name": "stdout",
     "output_type": "stream",
     "text": [
      "Test Accuracy: 73.72%\n"
     ]
    }
   ],
   "source": [
    "model.eval()\n",
    "correct = 0\n",
    "total =  0\n",
    "\n",
    "with torch.no_grad():\n",
    "    for images, labels in test_loader:\n",
    "        images = images.view(-1, 28*28)\n",
    "        # labels = labels.to(device)\n",
    "        outputs = model(images)\n",
    "        _, predicted = torch.max(outputs, 1)\n",
    "        total += labels.size(0)\n",
    "        correct += (predicted == labels).sum().item()\n",
    "        # print(f\"Predict: {predicted}, Lable: {label}\")\n",
    "\n",
    "test_accuracy = 100 * correct / total\n",
    "print(f\"Test Accuracy: {test_accuracy:.2f}%\")"
   ]
  },
  {
   "cell_type": "code",
   "execution_count": 19,
   "id": "7b2206dc-b2fa-4e9c-9a55-5b6c8e3750f9",
   "metadata": {},
   "outputs": [],
   "source": [
    "# %reset -f"
   ]
  },
  {
   "cell_type": "code",
   "execution_count": 21,
   "id": "464f57e5-bf59-4a6b-af05-5dc02305be5e",
   "metadata": {},
   "outputs": [],
   "source": [
    "torch.save(model.state_dict(), \"../model/Ann_digit_recognition.pth\")"
   ]
  },
  {
   "cell_type": "code",
   "execution_count": null,
   "id": "5550bd6d-8995-40ba-a269-9d391f813bb1",
   "metadata": {},
   "outputs": [],
   "source": []
  }
 ],
 "metadata": {
  "kernelspec": {
   "display_name": "Python (handwritten_digit_recognition)",
   "language": "python",
   "name": "handwritten_digit_recognition"
  },
  "language_info": {
   "codemirror_mode": {
    "name": "ipython",
    "version": 3
   },
   "file_extension": ".py",
   "mimetype": "text/x-python",
   "name": "python",
   "nbconvert_exporter": "python",
   "pygments_lexer": "ipython3",
   "version": "3.12.8"
  }
 },
 "nbformat": 4,
 "nbformat_minor": 5
}
